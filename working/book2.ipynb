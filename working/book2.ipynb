{
 "cells": [
  {
   "cell_type": "code",
   "execution_count": 2,
   "id": "4768fdb7",
   "metadata": {},
   "outputs": [],
   "source": [
    "from llama_cpp import Llama\n",
    "import numpy as np\n",
    "import json"
   ]
  },
  {
   "cell_type": "code",
   "execution_count": 3,
   "id": "c84b5e45",
   "metadata": {},
   "outputs": [],
   "source": [
    "import json\n",
    "import time\n",
    "import io\n",
    "import ctypes\n",
    "from contextlib import redirect_stderr\n",
    "from llama_cpp import (\n",
    "    Llama,\n",
    "    llama_log_set,\n",
    ")\n",
    "from collections import OrderedDict\n",
    "from typing import (\n",
    "    Dict,\n",
    ")\n"
   ]
  },
  {
   "cell_type": "code",
   "execution_count": 4,
   "id": "d50e0ad5",
   "metadata": {},
   "outputs": [],
   "source": [
    "\n",
    "# suppressing + logging stdout/stderr -----\n",
    "\n",
    "llama_log_obj = []\n",
    "\n",
    "def suppress_stderr(func):\n",
    "    def wrapper(*args, **kwargs):\n",
    "        capture_stderr = io.StringIO()\n",
    "        with redirect_stderr(capture_stderr):\n",
    "            result = func(*args, **kwargs)\n",
    "            llama_log_obj.append(capture_stderr.getvalue())\n",
    "        return result\n",
    "    return wrapper\n",
    "\n",
    "def my_log_callback(level, message, user_data):\n",
    "    llama_log_obj.append(message.decode())\n",
    "\n",
    "log_callback = ctypes.CFUNCTYPE(None, ctypes.c_int, \n",
    "            ctypes.c_char_p, ctypes.c_void_p)(my_log_callback)\n",
    "\n",
    "llama_log_set(log_callback, ctypes.c_void_p())\n"
   ]
  },
  {
   "cell_type": "code",
   "execution_count": 5,
   "id": "8c4f4ee8",
   "metadata": {},
   "outputs": [],
   "source": [
    "@suppress_stderr\n",
    "def bar():\n",
    "    return Llama(\n",
    "        model_path=\"../data/mistral-7b-instruct-v0.2.Q4_K_M.gguf\", \n",
    "        logits_all=True,\n",
    "        \n",
    "    )"
   ]
  },
  {
   "cell_type": "code",
   "execution_count": 6,
   "id": "6b96e2e1",
   "metadata": {},
   "outputs": [],
   "source": [
    "llm = bar()"
   ]
  },
  {
   "cell_type": "code",
   "execution_count": 7,
   "id": "83eb47e8",
   "metadata": {},
   "outputs": [],
   "source": [
    "output = llm(\n",
    "    \"The capital of France is\", \n",
    "    max_tokens=1, \n",
    "    temperature=2.0,\n",
    "    logprobs=10,          # request top-k logprobs for tokens\n",
    "    echo=False,\n",
    ")"
   ]
  },
  {
   "cell_type": "code",
   "execution_count": 8,
   "id": "eb9e685f",
   "metadata": {},
   "outputs": [
    {
     "data": {
      "text/plain": [
       "{'id': 'cmpl-0a327e18-50a0-4c33-89c2-02b715d56698',\n",
       " 'object': 'text_completion',\n",
       " 'created': 1755604940,\n",
       " 'model': '../data/mistral-7b-instruct-v0.2.Q4_K_M.gguf',\n",
       " 'choices': [{'text': ' not',\n",
       "   'index': 0,\n",
       "   'logprobs': {'tokens': [' not'],\n",
       "    'text_offset': [24],\n",
       "    'token_logprobs': [np.float32(-3.930922)],\n",
       "    'top_logprobs': [{' Paris': np.float32(-1.416907),\n",
       "      ' a': np.float32(-1.8824908),\n",
       "      ' one': np.float32(-2.3024373),\n",
       "      ' known': np.float32(-2.4046102),\n",
       "      ' an': np.float32(-3.0555158),\n",
       "      ' the': np.float32(-3.2259011),\n",
       "      ' famous': np.float32(-3.4587197),\n",
       "      ' home': np.float32(-3.5714765),\n",
       "      ' also': np.float32(-3.7625794),\n",
       "      ' not': np.float32(-3.930922)}]},\n",
       "   'finish_reason': 'length'}],\n",
       " 'usage': {'prompt_tokens': 6, 'completion_tokens': 1, 'total_tokens': 7}}"
      ]
     },
     "execution_count": 8,
     "metadata": {},
     "output_type": "execute_result"
    }
   ],
   "source": [
    "output"
   ]
  },
  {
   "cell_type": "code",
   "execution_count": 9,
   "id": "90e39b87",
   "metadata": {},
   "outputs": [],
   "source": [
    "top_logprobs = output['choices'][0]['logprobs']['top_logprobs'][0]"
   ]
  },
  {
   "cell_type": "code",
   "execution_count": 10,
   "id": "9d92acb2",
   "metadata": {},
   "outputs": [
    {
     "data": {
      "text/plain": [
       "{' Paris': np.float32(-1.416907),\n",
       " ' a': np.float32(-1.8824908),\n",
       " ' one': np.float32(-2.3024373),\n",
       " ' known': np.float32(-2.4046102),\n",
       " ' an': np.float32(-3.0555158),\n",
       " ' the': np.float32(-3.2259011),\n",
       " ' famous': np.float32(-3.4587197),\n",
       " ' home': np.float32(-3.5714765),\n",
       " ' also': np.float32(-3.7625794),\n",
       " ' not': np.float32(-3.930922)}"
      ]
     },
     "execution_count": 10,
     "metadata": {},
     "output_type": "execute_result"
    }
   ],
   "source": [
    "top_logprobs"
   ]
  },
  {
   "cell_type": "code",
   "execution_count": 11,
   "id": "67287ff8",
   "metadata": {},
   "outputs": [
    {
     "data": {
      "text/plain": [
       "np.float32(0.77424085)"
      ]
     },
     "execution_count": 11,
     "metadata": {},
     "output_type": "execute_result"
    }
   ],
   "source": [
    "tmp = {k: np.exp(v) for k,v in top_logprobs.items()}\n",
    "np.sum(np.array(list(tmp.values())))"
   ]
  },
  {
   "cell_type": "code",
   "execution_count": 12,
   "id": "96dc8068",
   "metadata": {},
   "outputs": [],
   "source": [
    "@suppress_stderr\n",
    "def foo(num_output=10):\n",
    "    output = llm(\n",
    "        \"The capital of France is\", \n",
    "        max_tokens=1, \n",
    "        # temperature=2.0,\n",
    "        logprobs=num_output,          # request top-k logprobs for tokens\n",
    "        echo=False\n",
    "    )\n",
    "    top_logprobs = output['choices'][0]['logprobs']['top_logprobs'][0]\n",
    "    tmp = {k: np.exp(v) for k,v in top_logprobs.items()}\n",
    "    return np.sum(np.array(list(tmp.values())))"
   ]
  },
  {
   "cell_type": "code",
   "execution_count": 13,
   "id": "4c7c3233",
   "metadata": {},
   "outputs": [
    {
     "data": {
      "text/plain": [
       "np.float32(0.9547854)"
      ]
     },
     "execution_count": 13,
     "metadata": {},
     "output_type": "execute_result"
    }
   ],
   "source": [
    "foo(num_output=100)"
   ]
  },
  {
   "cell_type": "code",
   "execution_count": null,
   "id": "a13a6052",
   "metadata": {},
   "outputs": [
    {
     "data": {
      "text/plain": [
       "2"
      ]
     },
     "execution_count": 14,
     "metadata": {},
     "output_type": "execute_result"
    },
    {
     "ename": "",
     "evalue": "",
     "output_type": "error",
     "traceback": [
      "\u001b[1;31mThe Kernel crashed while executing code in the current cell or a previous cell. \n",
      "\u001b[1;31mPlease review the code in the cell(s) to identify a possible cause of the failure. \n",
      "\u001b[1;31mClick <a href='https://aka.ms/vscodeJupyterKernelCrash'>here</a> for more info. \n",
      "\u001b[1;31mView Jupyter <a href='command:jupyter.viewOutput'>log</a> for further details."
     ]
    }
   ],
   "source": [
    "1+1"
   ]
  },
  {
   "cell_type": "code",
   "execution_count": null,
   "id": "a017c338",
   "metadata": {},
   "outputs": [],
   "source": []
  },
  {
   "cell_type": "code",
   "execution_count": null,
   "id": "2119eda3",
   "metadata": {},
   "outputs": [],
   "source": []
  }
 ],
 "metadata": {
  "kernelspec": {
   "display_name": "demo-llama-uv",
   "language": "python",
   "name": "demo-llama-uv"
  },
  "language_info": {
   "codemirror_mode": {
    "name": "ipython",
    "version": 3
   },
   "file_extension": ".py",
   "mimetype": "text/x-python",
   "name": "python",
   "nbconvert_exporter": "python",
   "pygments_lexer": "ipython3",
   "version": "3.12.11"
  }
 },
 "nbformat": 4,
 "nbformat_minor": 5
}
