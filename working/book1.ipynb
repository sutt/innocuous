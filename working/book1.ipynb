{
 "cells": [
  {
   "cell_type": "code",
   "execution_count": 12,
   "id": "440b7697-b88e-4635-b4af-6ce2184f03b3",
   "metadata": {},
   "outputs": [
    {
     "name": "stdout",
     "output_type": "stream",
     "text": [
      "Len of bytes: 2\n",
      "As bytes: b'\\r\\x11'\n"
     ]
    }
   ],
   "source": [
    "byte_values = bytes([13, 17])   # same as b'\\x0d'\n",
    "print(\"Len of bytes:\", len(byte_values))\n",
    "print(\"As bytes:\", byte_values)"
   ]
  },
  {
   "cell_type": "code",
   "execution_count": 13,
   "id": "15565c6c",
   "metadata": {},
   "outputs": [
    {
     "name": "stdout",
     "output_type": "stream",
     "text": [
      "As integer: 13\n",
      "As binary string: 00001101\n",
      "As hex string: 0d\n",
      "As integer: 17\n",
      "As binary string: 00010001\n",
      "As hex string: 11\n"
     ]
    }
   ],
   "source": [
    "for i in range(len(byte_values)):\n",
    "    # Get its integer representation\n",
    "    int_value = byte_values[i]\n",
    "    print(\"As integer:\", int_value)\n",
    "\n",
    "    # Print in binary with 8 bits\n",
    "    binary_str = format(int_value, \"08b\")\n",
    "    print(\"As binary string:\", binary_str)\n",
    "\n",
    "    # Convert to a string encoding (base64 or hex is common)\n",
    "    hex_str = bytes([byte_values[i]]).hex()\n",
    "    print(\"As hex string:\", hex_str)\n"
   ]
  },
  {
   "cell_type": "code",
   "execution_count": 16,
   "id": "011d1c61-a117-44be-bbf2-378d19743a35",
   "metadata": {},
   "outputs": [
    {
     "data": {
      "text/plain": [
       "b'\\xff'"
      ]
     },
     "execution_count": 16,
     "metadata": {},
     "output_type": "execute_result"
    }
   ],
   "source": [
    "bytes([255])"
   ]
  },
  {
   "cell_type": "code",
   "execution_count": null,
   "id": "41e1ce3c",
   "metadata": {},
   "outputs": [],
   "source": []
  }
 ],
 "metadata": {
  "kernelspec": {
   "display_name": "demo-llama-uv",
   "language": "python",
   "name": "demo-llama-uv"
  },
  "language_info": {
   "codemirror_mode": {
    "name": "ipython",
    "version": 3
   },
   "file_extension": ".py",
   "mimetype": "text/x-python",
   "name": "python",
   "nbconvert_exporter": "python",
   "pygments_lexer": "ipython3",
   "version": "3.12.11"
  }
 },
 "nbformat": 4,
 "nbformat_minor": 5
}
